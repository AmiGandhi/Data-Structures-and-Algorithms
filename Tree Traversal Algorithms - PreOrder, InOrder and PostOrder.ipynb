{
 "cells": [
  {
   "cell_type": "markdown",
   "metadata": {},
   "source": [
    "# Tree Traversal - Preorder, Inorder and Postorder\n",
    "\n",
    "1. **Preorder Traversal** - Visit root node, Traverse left subtree, Traverse right subtree\n",
    "2. **Inorder Traversal** - Traverse left subtree, Visit root node, Traverse right subtree\n",
    "3. **Postorder Traversal** - Traverse left subtree, Traverse right subtree, Visit root node"
   ]
  },
  {
   "cell_type": "code",
   "execution_count": 9,
   "metadata": {},
   "outputs": [
    {
     "name": "stdout",
     "output_type": "stream",
     "text": [
      "Preorder traversal of binary tree is :\n",
      "1\n",
      "2\n",
      "4\n",
      "5\n",
      "3\n",
      "6\n",
      "7\n",
      "\n",
      "Inorder traversal of binary tree is :\n",
      "4\n",
      "2\n",
      "5\n",
      "1\n",
      "6\n",
      "3\n",
      "7\n",
      "\n",
      "Postorder traversal of binary tree is :\n",
      "4\n",
      "5\n",
      "2\n",
      "6\n",
      "7\n",
      "3\n",
      "1\n"
     ]
    }
   ],
   "source": [
    "# class which represents individual node in binary tree\n",
    "class Node:\n",
    "    def __init__ (self, x):\n",
    "        self.val = x\n",
    "        self.left = None\n",
    "        self.right = None\n",
    "\n",
    "# class containing preorder, inorder and postorder traversal\n",
    "class Result:\n",
    "    def Preorder(self,root):        # function to do Preorder traversal\n",
    "        if root:\n",
    "            print(root.val)         # print the data of node\n",
    "            Preorder(root.left)     # recur on left child\n",
    "            Preorder(root.right)    # recur on right child\n",
    "\n",
    "    def Inorder(self,root):         # function to do Inorder traversal\n",
    "        if root:\n",
    "            Inorder(root.left)      # recur on left child\n",
    "            print(root.val)         # print the data of node\n",
    "            Inorder(root.right)     # recur on right child\n",
    "\n",
    "    def Postorder(self,root):       # function to do Postorder traversal\n",
    "        if root:\n",
    "            Postorder(root.left)    # recur on left child\n",
    "            Postorder(root.right)   # recur on right child\n",
    "            print(root.val)         # print the data of node\n",
    "\n",
    "# Driver Code\n",
    "root = Node(1)   # creating root node and subsequent child nodes\n",
    "root.left = Node(2)\n",
    "root.right = Node(3)\n",
    "root.left.left = Node(4)\n",
    "root.left.right = Node(5)\n",
    "root.right.left = Node(6)\n",
    "root.right.right = Node(7)\n",
    "\n",
    "r = Result()       # creating object of resut class\n",
    "print (\"Preorder traversal of binary tree is :\")\n",
    "r.Preorder(root)   # calling preorder function to traverse the tree by PreOrder algorithm\n",
    "  \n",
    "print (\"\\nInorder traversal of binary tree is :\")\n",
    "r.Inorder(root)    # calling Inorder function to traverse the tree by InOrder algorithm\n",
    "  \n",
    "print (\"\\nPostorder traversal of binary tree is :\")\n",
    "r.Postorder(root)  # calling postorder function to traverse the tree by PostOrder algorithm"
   ]
  },
  {
   "cell_type": "markdown",
   "metadata": {},
   "source": [
    "## Conclusion\n",
    "\n",
    "Here, different ways of binary tree traversal technique is demonstrated.\n",
    "\n",
    "**Time Complexity :** There are n nodes in a binary tree and since each traversal algorithm will touch all n nodes, hence the time complexity will be O(n).\n",
    "\n",
    "**Space Complexity :** The total space occupied at a time in the stack is equal to the height of the tree, which in the worst case will be equal to O(n)."
   ]
  }
 ],
 "metadata": {
  "kernelspec": {
   "display_name": "Python 3",
   "language": "python",
   "name": "python3"
  },
  "language_info": {
   "codemirror_mode": {
    "name": "ipython",
    "version": 3
   },
   "file_extension": ".py",
   "mimetype": "text/x-python",
   "name": "python",
   "nbconvert_exporter": "python",
   "pygments_lexer": "ipython3",
   "version": "3.7.2"
  }
 },
 "nbformat": 4,
 "nbformat_minor": 2
}
